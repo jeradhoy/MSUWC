{
 "cells": [
  {
   "cell_type": "markdown",
   "metadata": {},
   "source": [
    "## I. General Setup\n",
    "1. [Download](http://downloads.esri.com/archydro/archydro/Setup/) ArcHydro tools\n",
    "2. Remember each time you use ArcHydro to set target locations:\n",
    "    1. Go to ApUtilities\n",
    "    2. Select ArcHydro\n",
    "    3. Set to directories where you want files stored\n",
    "        * Make sure to create/use geodatabase for second location - otherwise you get error trying to do catchment polygon processing\n",
    "3. Make sure everything is in GCS_WGS_1984"
   ]
  },
  {
   "cell_type": "markdown",
   "metadata": {},
   "source": [
    "## II. Extracting MT Watersheds From MSU HUCS\n",
    "1. Downloaded HUCS dataset\n",
    " - ftp://ftp.ftw.nrcs.usda.gov/wbd/WBD_Latest_Version_March2015/\n",
    "2. Open in arcgis\n",
    "3. Attirbutes -> select \"States LIKE '%MT%'\"\n",
    "4. Editor -> Start Editing\n",
    "5. Editor -> Merge\n",
    "6. Right click layer -> Data -> Export Data"
   ]
  },
  {
   "cell_type": "markdown",
   "metadata": {},
   "source": [
    "## III. Clipping Hydrosheds with HUCS Montana shapefile\n",
    "1. Load Hydrosheds\n",
    "2. Load HUCS file, reproject into same coordinate system as Hydrosheds\n",
    "    * GCS_WGS_1984\n",
    "3. Use data management -> raster -> raster Processing -> clip tool to clip hydrosheds to HUCS - \n",
    " - check \"Use Input Features for Clipping Geometry\""
   ]
  },
  {
   "cell_type": "markdown",
   "metadata": {},
   "source": [
    "## IV. Generating the arcHydro Network\n",
    "1. [Download](http://hydrosheds.cr.usgs.gov/dataavail.php) hydrosheds water direction and accumulation files\n",
    "2. Clip files to HUCS shape using above clipping method\n",
    "3. Set target locations as instructed above.\n",
    "3. Generate stream definition using a threshold of 5. Can check to match with NHD network\n",
    "4. Use stream segmentation, catchment grid delineation, catchment polygon proccessing, drainage line, and drainage point processing tools.\n",
    "5. Use Hydro Network Generation tool to generate network"
   ]
  },
  {
   "cell_type": "markdown",
   "metadata": {},
   "source": [
    "## Get huc code for each catchment\n",
    "1. Join WBDHU10 huc shapefile and DranaigePoint based on location\n",
    "2. Join Catchment and Drainage point, keep only HUC10 field"
   ]
  },
  {
   "cell_type": "markdown",
   "metadata": {},
   "source": [
    "## Get Slope for each edge\n",
    "1. Compute line parameters - will compute for drainage line\n",
    "2. Join drainage line to catchment\n",
    "3. Join Catchment to hydroedge"
   ]
  },
  {
   "cell_type": "markdown",
   "metadata": {},
   "source": [
    "## V. Get stream order for hydroEdge layer\n",
    "1. Set NextDownID's with NULL value to -1 by selecting the 'NextDownID IS NULL' and use field calculator to fill with -1\n",
    "1. Use Assign River Order tool and create seperate StrahlerOrder field. '\n",
    "2. Keep other field to use as order to compute\n",
    "2. Join HydroEdge and Catchment layers"
   ]
  },
  {
   "cell_type": "code",
   "execution_count": null,
   "metadata": {
    "collapsed": true
   },
   "outputs": [],
   "source": []
  },
  {
   "cell_type": "markdown",
   "metadata": {},
   "source": [
    "### Get gauge locations\n",
    "1. Go to http://waterdata.usgs.gov/nwis/inventory\n",
    "2. Select by state and site type\n",
    "3. Select the states you want and chose \"stream\" in site type\n",
    "4. Select view on map\n",
    "5. When on map, click export and save as ESRI Shapefile"
   ]
  },
  {
   "cell_type": "code",
   "execution_count": null,
   "metadata": {
    "collapsed": true
   },
   "outputs": [],
   "source": []
  },
  {
   "cell_type": "code",
   "execution_count": null,
   "metadata": {
    "collapsed": true
   },
   "outputs": [],
   "source": []
  },
  {
   "cell_type": "markdown",
   "metadata": {},
   "source": [
    "# VI. Convert decimal degrees to km by multiplying by 120, 14400 for squared measurements"
   ]
  },
  {
   "cell_type": "markdown",
   "metadata": {},
   "source": [
    "## VI. Get Beaverhead Basin Shapefile\n",
    "1. Load WBDHUC6 from NHD database, reproject, and then filter to Missouri Headwaters polygon\n",
    "2. Clip Catchments, Polygons, DEM, and hillshade with bhPolygon"
   ]
  },
  {
   "cell_type": "markdown",
   "metadata": {},
   "source": [
    "## Create Grid for Gridlist\n",
    "1. Selelct catchments you want\n",
    "2. Export catchments\n",
    "3. Select all features\n",
    "4. Editor -> merge\n",
    "5. Clip dem with merged shapefile using data manange -> raster -> raster processing -> clip tool\n",
    "6. Export as tif\n",
    "7. Read into R and write coordinates to text file. createGridlist.ipynb"
   ]
  },
  {
   "cell_type": "code",
   "execution_count": null,
   "metadata": {
    "collapsed": true
   },
   "outputs": [],
   "source": []
  },
  {
   "cell_type": "markdown",
   "metadata": {},
   "source": []
  },
  {
   "cell_type": "code",
   "execution_count": null,
   "metadata": {
    "collapsed": true
   },
   "outputs": [],
   "source": []
  },
  {
   "cell_type": "markdown",
   "metadata": {},
   "source": []
  },
  {
   "cell_type": "code",
   "execution_count": null,
   "metadata": {
    "collapsed": true
   },
   "outputs": [],
   "source": []
  },
  {
   "cell_type": "markdown",
   "metadata": {},
   "source": [
    "## VII. Calculate mean annual discharge and velocity "
   ]
  },
  {
   "cell_type": "markdown",
   "metadata": {},
   "source": [
    "## Merging LPJ Outputs to single file\n",
    "1. Read in seed grid in R and use dimensions to modify SR_grid_merge.txt given by Kristen.\n",
    "2. Use her script to merge files, WARNING - takes like 5 hours"
   ]
  },
  {
   "cell_type": "markdown",
   "metadata": {},
   "source": [
    "# ToDo\n"
   ]
  },
  {
   "cell_type": "markdown",
   "metadata": {},
   "source": [
    "# Scratch Notes\n",
    "\n",
    "Maybe have catchments\n",
    "\n",
    "Inputs Values: Rs - surface runoff\n",
    "    Loop through drainages starting with \n",
    "\n",
    "### Edge Attributes\n",
    "- Length\n",
    "- Slope\n",
    "- Catchment / CatchmentID\n",
    "- River Order\n",
    "- color\n",
    "\n",
    "### Node Attributes\n",
    "- color\n",
    "\n",
    "\n",
    "Outputs:\n",
    "\n",
    "time series of water flow for each month\n",
    "\n",
    "\n",
    "\n",
    "\n",
    "\n",
    "To move forward, I'd like us to:\n",
    "1. For each month (m), sum total runoff (Rs) for each catchment (k)\n",
    "2. Assume that all the catchment runoff can enter the stream/edge (Sriv) [so no routing or lag approaches]\n",
    "3. Assign each edge an average annual discharge (Qout) from Raymond's study based on Strahler stream order\n",
    "4. Sum water moving across edges as Sriv=(Qin-Qout)+Rs, where Qout=min(Qout-raymond, Sriv)\n",
    "5. We'll compare the hydrographs and to account for no routing/lags, develop a simple correction factor (c) to scale Rs downward.\n",
    "6. Other notes:\n",
    "    -Rs is in mm/month, to convert to m3 we divide by 1000 to get m/month and multiple by catchment area in units of m2\n",
    "    -Qout from Raymond et al. can be convert to mm/month by dividing by 0.001 to get mm3 and dividing by catchment area, and scaling by time\n",
    "    - We don't need to know Sriv length or width, Qout is includes this information!\n"
   ]
  }
 ],
 "metadata": {
  "kernelspec": {
   "display_name": "R",
   "language": "",
   "name": "ir"
  },
  "language_info": {
   "codemirror_mode": "r",
   "file_extension": ".r",
   "mimetype": "text/x-r-source",
   "name": "R",
   "pygments_lexer": "r",
   "version": "3.2.0"
  }
 },
 "nbformat": 4,
 "nbformat_minor": 0
}
