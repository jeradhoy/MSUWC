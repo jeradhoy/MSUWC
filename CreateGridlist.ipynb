{
 "cells": [
  {
   "cell_type": "code",
   "execution_count": 2,
   "metadata": {
    "collapsed": false,
    "scrolled": true
   },
   "outputs": [
    {
     "name": "stderr",
     "output_type": "stream",
     "text": [
      "Checking rgeos availability: TRUE\n",
      "rgdal: version: 0.9-2, (SVN revision 526)\n",
      "Geospatial Data Abstraction Library extensions to R successfully loaded\n",
      "Loaded GDAL runtime: GDAL 1.11.2, released 2015/02/10\n",
      "Path to GDAL shared files: /opt/local/share/gdal\n",
      "Loaded PROJ.4 runtime: Rel. 4.8.0, 6 March 2012, [PJ_VERSION: 491]\n",
      "Path to PROJ.4 shared files: (autodetected)\n",
      "Loading required package: iterators\n",
      "Loading required package: parallel\n"
     ]
    }
   ],
   "source": [
    "library(sp)\n",
    "library(maptools)\n",
    "library(raster)\n",
    "library(igraph)\n",
    "library(rgdal)\n",
    "library(ncdf)\n",
    "library(raster)\n",
    "library(foreach)\n",
    "library(doParallel)\n",
    "options(scipen=999)\n"
   ]
  },
  {
   "cell_type": "code",
   "execution_count": 12,
   "metadata": {
    "collapsed": false
   },
   "outputs": [
    {
     "data": {
      "text/plain": [
       "class       : RasterLayer \n",
       "dimensions  : 81, 69, 5589  (nrow, ncol, ncell)\n",
       "resolution  : 0.008333333, 0.008333333  (x, y)\n",
       "extent      : -110.4, -109.825, 44.55, 45.225  (xmin, xmax, ymin, ymax)\n",
       "coord. ref. : +proj=longlat +datum=WGS84 +no_defs +ellps=WGS84 +towgs84=0,0,0 \n",
       "data source : /Users/hoy/Desktop/MSUWC/Data/lamarGrid1.tif \n",
       "names       : lamarGrid1 \n",
       "values      : -32768, 32767  (min, max)\n"
      ]
     },
     "execution_count": 12,
     "metadata": {},
     "output_type": "execute_result"
    },
    {
     "data": {
      "text/html": [
       "44.5625"
      ],
      "text/latex": [
       "44.5625"
      ],
      "text/markdown": [
       "44.5625"
      ],
      "text/plain": [
       "[1] 44.5625"
      ]
     },
     "execution_count": 12,
     "metadata": {},
     "output_type": "execute_result"
    },
    {
     "data": {
      "text/html": [
       "-110.395833333333"
      ],
      "text/latex": [
       "-110.395833333333"
      ],
      "text/markdown": [
       "-110.395833333333"
      ],
      "text/plain": [
       "[1] -110.3958"
      ]
     },
     "execution_count": 12,
     "metadata": {},
     "output_type": "execute_result"
    }
   ],
   "source": [
    "raster(\"/Users/hoy/Desktop/MSUWC/Data/lamarGrid1.tif\")\n",
    "min(as.numeric(lamar$y))\n",
    "min(as.numeric(lamar$x))"
   ]
  },
  {
   "cell_type": "code",
   "execution_count": 3,
   "metadata": {
    "collapsed": false,
    "scrolled": true
   },
   "outputs": [
    {
     "data": {
      "text/html": [
       "2847"
      ],
      "text/latex": [
       "2847"
      ],
      "text/markdown": [
       "2847"
      ],
      "text/plain": [
       "[1] 2847"
      ]
     },
     "execution_count": 3,
     "metadata": {},
     "output_type": "execute_result"
    }
   ],
   "source": [
    "lamar <- as.data.frame(raster(\"/Users/hoy/Desktop/MSUWC/Data/lamarGrid1.tif\"), xy=TRUE)\n",
    "lamar <- na.omit(lamar)\n",
    "lamar <- format(lamar[,1:2], nsmall=20)\n",
    "lamar$descrip <- 4\n",
    "write.table(lamar, \"/Users/hoy/Desktop/MSUWC/Data/lamarGridList.txt\", row.names=F, col.names=F, quote=F)\n",
    "nrow(lamar)\n",
    "#write.table(lamar[1:2,], \"/Users/hoy/Desktop/MSUWC/Data/lamarGridListTest.txt\", row.names=F, col.names=F, quote=F)"
   ]
  },
  {
   "cell_type": "code",
   "execution_count": 4,
   "metadata": {
    "collapsed": false
   },
   "outputs": [],
   "source": [
    "#output[order(output$x),]\n",
    "#unique(output$x)\n",
    "#output[output$x == lon,]\n",
    "lons <- unique(lamar[,1])\n",
    "i = 1\n",
    "while(i <= 63){\n",
    "    #print(lamar[lamar[,1] == lons[i],])\n",
    "    write.table(lamar[lamar[,1] == lons[i],], paste(\"/Users/hoy/Desktop/MSUWC/Data/lamarGrids/lamarGridList\", i,\".txt\", sep=\"\"), row.names=F, col.names=F, quote=F)\n",
    "    i <- i + 1\n",
    "}\n",
    "write.table(lamar[lamar[,1] %in% lons[i:length(lons)],], paste(\"/Users/hoy/Desktop/MSUWC/Data/lamarGrids/lamarGridList\", i,\".txt\", sep=\"\"), row.names=F, col.names=F, quote=F)"
   ]
  },
  {
   "cell_type": "code",
   "execution_count": null,
   "metadata": {
    "collapsed": true
   },
   "outputs": [],
   "source": []
  }
 ],
 "metadata": {
  "kernelspec": {
   "display_name": "R",
   "language": "",
   "name": "ir"
  },
  "language_info": {
   "codemirror_mode": "r",
   "file_extension": ".r",
   "mimetype": "text/x-r-source",
   "name": "R",
   "pygments_lexer": "r",
   "version": "3.2.0"
  }
 },
 "nbformat": 4,
 "nbformat_minor": 0
}
